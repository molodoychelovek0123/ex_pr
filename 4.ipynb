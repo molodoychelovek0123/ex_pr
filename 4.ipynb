{
 "cells": [
  {
   "cell_type": "code",
   "execution_count": 105,
   "id": "46fb8d67",
   "metadata": {},
   "outputs": [
    {
     "name": "stderr",
     "output_type": "stream",
     "text": [
      "INFO:emnist:Cached file found at C:\\Users\\23202/.cache/emnist/emnist.zip.\n",
      "INFO:emnist:Cached file found at C:\\Users\\23202/.cache/emnist/emnist.zip.\n",
      "INFO:emnist:Cached file found at C:\\Users\\23202/.cache/emnist/emnist.zip.\n",
      "INFO:emnist:Cached file found at C:\\Users\\23202/.cache/emnist/emnist.zip.\n"
     ]
    }
   ],
   "source": [
    "import tensorflow as tf\n",
    "from emnist import extract_training_samples, extract_test_samples\n",
    "\n",
    "# Загрузка тренировочных данных\n",
    "train_images, train_labels = extract_training_samples('letters')\n",
    "\n",
    "# Загрузка тестовых данных\n",
    "test_images, test_labels = extract_test_samples('letters')"
   ]
  },
  {
   "cell_type": "code",
   "execution_count": 106,
   "id": "acaaa35e",
   "metadata": {},
   "outputs": [],
   "source": [
    "emnist_mapping = {\n",
    "    1: 'A', 2: 'B', 3: 'C', 4: 'D', 5: 'E', 6: 'F', 7: 'G', 8: 'H', 9: 'I', 10: 'J',\n",
    "    11: 'K', 12: 'L', 13: 'M', 14: 'N', 15: 'O', 16: 'P', 17: 'Q', 18: 'R', 19: 'S', 20: 'T',\n",
    "    21: 'U', 22: 'V', 23: 'W', 24: 'X', 25: 'Y', 26: 'Z',\n",
    "    27: 'a', 28: 'b', 29: 'c', 30: 'd', 31: 'e', 32: 'f', 33: 'g', 34: 'h', 35: 'i', 36: 'j',\n",
    "    37: 'k', 38: 'l', 39: 'm', 40: 'n', 41: 'o', 42: 'p', 43: 'q', 44: 'r', 45: 's', 46: 't',\n",
    "    47: 'u', 48: 'v', 49: 'w', 50: 'x', 51: 'y', 52: 'z'\n",
    "}"
   ]
  },
  {
   "cell_type": "code",
   "execution_count": 107,
   "id": "6c0a09ed",
   "metadata": {},
   "outputs": [
    {
     "data": {
      "image/png": "[encoded data removed]",
      "text/plain": [
       "<Figure size 432x288 with 1 Axes>"
      ]
     },
     "metadata": {
      "needs_background": "light"
     },
     "output_type": "display_data"
    },
    {
     "name": "stdout",
     "output_type": "stream",
     "text": [
      "7\n"
     ]
    }
   ],
   "source": [
    "import matplotlib.pyplot as plt\n",
    "plt.imshow(train_images[1],cmap=plt.cm.binary)\n",
    "plt.show()\n",
    "print(train_labels[1])"
   ]
  },
  {
   "cell_type": "code",
   "execution_count": 108,
   "id": "41b5bc66",
   "metadata": {},
   "outputs": [],
   "source": [
    "train_images = train_images / 255.0\n",
    "test_images = test_images / 255.0"
   ]
  },
  {
   "cell_type": "code",
   "execution_count": 109,
   "id": "175f761c",
   "metadata": {},
   "outputs": [],
   "source": [
    "from keras.utils import to_categorical\n",
    "train_labels = to_categorical(train_labels)\n",
    "test_labels = to_categorical(test_labels)"
   ]
  },
  {
   "cell_type": "code",
   "execution_count": 110,
   "id": "047335e5",
   "metadata": {},
   "outputs": [],
   "source": [
    "from tensorflow.keras.layers import Dense, Activation, Flatten\n",
    "from tensorflow.keras.models import Sequential\n",
    "\n",
    "model1 = Sequential()\n",
    "model1.add(Flatten())\n",
    "model1.add(Dense(128, activation='relu'))\n",
    "model1.add(Dense(27, activation='softmax'))"
   ]
  },
  {
   "cell_type": "code",
   "execution_count": 111,
   "id": "d9a8f384",
   "metadata": {},
   "outputs": [],
   "source": [
    "model1.compile(optimizer='adam',\n",
    "              loss='categorical_crossentropy',\n",
    "              metrics=['accuracy'])"
   ]
  },
  {
   "cell_type": "code",
   "execution_count": 112,
   "id": "379a38bc",
   "metadata": {},
   "outputs": [
    {
     "name": "stdout",
     "output_type": "stream",
     "text": [
      "Epoch 1/50\n",
      "1950/1950 [==============================] - 9s 4ms/step - loss: 0.8363 - accuracy: 0.7581\n",
      "Epoch 2/50\n",
      "1950/1950 [==============================] - 7s 4ms/step - loss: 0.4708 - accuracy: 0.8572\n",
      "Epoch 3/50\n",
      "1950/1950 [==============================] - 8s 4ms/step - loss: 0.3899 - accuracy: 0.8792\n",
      "Epoch 4/50\n",
      "1950/1950 [==============================] - 8s 4ms/step - loss: 0.3461 - accuracy: 0.8912\n",
      "Epoch 5/50\n",
      "1950/1950 [==============================] - 8s 4ms/step - loss: 0.3191 - accuracy: 0.8986\n",
      "Epoch 6/50\n",
      "1950/1950 [==============================] - 7s 4ms/step - loss: 0.2977 - accuracy: 0.9050\n",
      "Epoch 7/50\n",
      "1950/1950 [==============================] - 7s 4ms/step - loss: 0.2808 - accuracy: 0.9094\n",
      "Epoch 8/50\n",
      "1950/1950 [==============================] - 7s 4ms/step - loss: 0.2682 - accuracy: 0.9127\n",
      "Epoch 9/50\n",
      "1950/1950 [==============================] - 7s 4ms/step - loss: 0.2573 - accuracy: 0.9161\n",
      "Epoch 10/50\n",
      "1950/1950 [==============================] - 7s 4ms/step - loss: 0.2468 - accuracy: 0.9188\n",
      "Epoch 11/50\n",
      "1950/1950 [==============================] - 8s 4ms/step - loss: 0.2386 - accuracy: 0.9209\n",
      "Epoch 12/50\n",
      "1950/1950 [==============================] - 8s 4ms/step - loss: 0.2303 - accuracy: 0.9237\n",
      "Epoch 13/50\n",
      "1950/1950 [==============================] - 8s 4ms/step - loss: 0.2234 - accuracy: 0.9252\n",
      "Epoch 14/50\n",
      "1950/1950 [==============================] - 8s 4ms/step - loss: 0.2164 - accuracy: 0.9279\n",
      "Epoch 15/50\n",
      "1950/1950 [==============================] - 8s 4ms/step - loss: 0.2119 - accuracy: 0.9280\n",
      "Epoch 16/50\n",
      "1950/1950 [==============================] - 8s 4ms/step - loss: 0.2067 - accuracy: 0.9300\n",
      "Epoch 17/50\n",
      "1950/1950 [==============================] - 8s 4ms/step - loss: 0.2014 - accuracy: 0.9317\n",
      "Epoch 18/50\n",
      "1950/1950 [==============================] - 8s 4ms/step - loss: 0.1961 - accuracy: 0.9322\n",
      "Epoch 19/50\n",
      "1950/1950 [==============================] - 8s 4ms/step - loss: 0.1924 - accuracy: 0.9345\n",
      "Epoch 20/50\n",
      "1950/1950 [==============================] - 8s 4ms/step - loss: 0.1886 - accuracy: 0.9352\n",
      "Epoch 21/50\n",
      "1950/1950 [==============================] - 8s 4ms/step - loss: 0.1841 - accuracy: 0.9367\n",
      "Epoch 22/50\n",
      "1950/1950 [==============================] - 8s 4ms/step - loss: 0.1811 - accuracy: 0.9377\n",
      "Epoch 23/50\n",
      "1950/1950 [==============================] - 8s 4ms/step - loss: 0.1778 - accuracy: 0.9384\n",
      "Epoch 24/50\n",
      "1950/1950 [==============================] - 7s 4ms/step - loss: 0.1742 - accuracy: 0.9395\n",
      "Epoch 25/50\n",
      "1950/1950 [==============================] - 7s 4ms/step - loss: 0.1705 - accuracy: 0.9407\n",
      "Epoch 26/50\n",
      "1950/1950 [==============================] - 7s 4ms/step - loss: 0.1697 - accuracy: 0.9406\n",
      "Epoch 27/50\n",
      "1950/1950 [==============================] - 7s 4ms/step - loss: 0.1655 - accuracy: 0.9422\n",
      "Epoch 28/50\n",
      "1950/1950 [==============================] - 7s 4ms/step - loss: 0.1626 - accuracy: 0.9434\n",
      "Epoch 29/50\n",
      "1950/1950 [==============================] - 8s 4ms/step - loss: 0.1607 - accuracy: 0.9433\n",
      "Epoch 30/50\n",
      "1950/1950 [==============================] - 7s 4ms/step - loss: 0.1572 - accuracy: 0.9448\n",
      "Epoch 31/50\n",
      "1950/1950 [==============================] - 7s 4ms/step - loss: 0.1550 - accuracy: 0.9451\n",
      "Epoch 32/50\n",
      "1950/1950 [==============================] - 7s 4ms/step - loss: 0.1527 - accuracy: 0.9453\n",
      "Epoch 33/50\n",
      "1950/1950 [==============================] - 8s 4ms/step - loss: 0.1519 - accuracy: 0.9464\n",
      "Epoch 34/50\n",
      "1950/1950 [==============================] - 8s 4ms/step - loss: 0.1479 - accuracy: 0.9477\n",
      "Epoch 35/50\n",
      "1950/1950 [==============================] - 8s 4ms/step - loss: 0.1463 - accuracy: 0.9475\n",
      "Epoch 36/50\n",
      "1950/1950 [==============================] - 8s 4ms/step - loss: 0.1443 - accuracy: 0.9480\n",
      "Epoch 37/50\n",
      "1950/1950 [==============================] - 7s 4ms/step - loss: 0.1426 - accuracy: 0.9497\n",
      "Epoch 38/50\n",
      "1950/1950 [==============================] - 7s 4ms/step - loss: 0.1409 - accuracy: 0.9493\n",
      "Epoch 39/50\n",
      "1950/1950 [==============================] - 8s 4ms/step - loss: 0.1393 - accuracy: 0.9496\n",
      "Epoch 40/50\n",
      "1950/1950 [==============================] - 7s 4ms/step - loss: 0.1369 - accuracy: 0.9510\n",
      "Epoch 41/50\n",
      "1950/1950 [==============================] - 8s 4ms/step - loss: 0.1354 - accuracy: 0.9513\n",
      "Epoch 42/50\n",
      "1950/1950 [==============================] - 8s 4ms/step - loss: 0.1333 - accuracy: 0.9514\n",
      "Epoch 43/50\n",
      "1950/1950 [==============================] - 8s 4ms/step - loss: 0.1310 - accuracy: 0.9522\n",
      "Epoch 44/50\n",
      "1950/1950 [==============================] - 8s 4ms/step - loss: 0.1303 - accuracy: 0.9531\n",
      "Epoch 45/50\n",
      "1950/1950 [==============================] - 8s 4ms/step - loss: 0.1289 - accuracy: 0.9531\n",
      "Epoch 46/50\n",
      "1950/1950 [==============================] - 8s 4ms/step - loss: 0.1277 - accuracy: 0.9532\n",
      "Epoch 47/50\n",
      "1950/1950 [==============================] - 8s 4ms/step - loss: 0.1264 - accuracy: 0.9528\n",
      "Epoch 48/50\n",
      "1950/1950 [==============================] - 7s 4ms/step - loss: 0.1251 - accuracy: 0.9540\n",
      "Epoch 49/50\n",
      "1950/1950 [==============================] - 7s 4ms/step - loss: 0.1228 - accuracy: 0.9551\n",
      "Epoch 50/50\n",
      "1950/1950 [==============================] - 7s 4ms/step - loss: 0.1208 - accuracy: 0.9555\n"
     ]
    },
    {
     "data": {
      "text/plain": [
       "<keras.src.callbacks.History at 0x250a396b070>"
      ]
     },
     "execution_count": 112,
     "metadata": {},
     "output_type": "execute_result"
    }
   ],
   "source": [
    "model1.fit(train_images, train_labels, epochs=50, batch_size=64)"
   ]
  },
  {
   "cell_type": "code",
   "execution_count": 113,
   "id": "4bc2e5a7",
   "metadata": {},
   "outputs": [
    {
     "name": "stdout",
     "output_type": "stream",
     "text": [
      "650/650 [==============================] - 3s 4ms/step - loss: 0.5315 - accuracy: 0.8867\n",
      "test_acc: 0.8866826891899109\n"
     ]
    }
   ],
   "source": [
    "test_loss, test_acc = model1.evaluate(test_images, test_labels)\n",
    "print('test_acc:', test_acc)"
   ]
  },
  {
   "cell_type": "code",
   "execution_count": 117,
   "id": "06425bb7",
   "metadata": {},
   "outputs": [],
   "source": [
    "from scipy.ndimage import center_of_mass\n",
    "import math \n",
    "import cv2\n",
    "import numpy as np\n",
    "\n",
    "def getBestShift(img):\n",
    "    cy,cx = center_of_mass(img)\n",
    "    \n",
    "    rows,cols = img.shape\n",
    "    shiftx = np.round(cols/2.0-cx).astype(int)\n",
    "    shifty = np.round(rows/2.0-cy).astype(int)\n",
    "\n",
    "    return shiftx,shifty\n",
    "  \n",
    "def shift(img,sx,sy):\n",
    "    rows,cols = img.shape\n",
    "    M = np.float32([[1,0,sx],[0,1,sy]])\n",
    "    shifted = cv2.warpAffine(img,M,(cols,rows))\n",
    "    return shifted\n",
    "    \n",
    "def rec_digit(img_path):\n",
    "    img = cv2.imread(img_path, cv2.IMREAD_GRAYSCALE)\n",
    "    gray = 255-img\n",
    "    # применяем пороговую обработку\n",
    "    (thresh, gray) = cv2.threshold(gray, 128, 255, cv2.THRESH_BINARY | cv2.THRESH_OTSU)\n",
    "\n",
    "    # удаляем нулевые строки и столбцы\n",
    "    while np.sum(gray[0]) == 0:\n",
    "        gray = gray[1:]\n",
    "    while np.sum(gray[:,0]) == 0:\n",
    "        gray = np.delete(gray,0,1)\n",
    "    while np.sum(gray[-1]) == 0:\n",
    "        gray = gray[:-1]\n",
    "    while np.sum(gray[:,-1]) == 0:\n",
    "        gray = np.delete(gray,-1,1)\n",
    "    rows,cols = gray.shape\n",
    "  \n",
    "    # изменяем размер, чтобы помещалось в box 20x20 пикселей\n",
    "    if rows > cols:\n",
    "        factor = 20.0/rows\n",
    "        rows = 20\n",
    "        cols = int(round(cols*factor))\n",
    "        gray = cv2.resize(gray, (cols,rows))\n",
    "    else:\n",
    "        factor = 20.0/cols\n",
    "        cols = 20\n",
    "        rows = int(round(rows*factor))\n",
    "        gray = cv2.resize(gray, (cols, rows))\n",
    "\n",
    "  # расширяем до размера 28x28\n",
    "    colsPadding = (int(math.ceil((28-cols)/2.0)),int(math.floor((28-cols)/2.0)))\n",
    "    rowsPadding = (int(math.ceil((28-rows)/2.0)),int(math.floor((28-rows)/2.0)))\n",
    "    gray = np.lib.pad(gray,(rowsPadding,colsPadding),'constant')\n",
    "\n",
    "\n",
    "    shiftx,shifty = getBestShift(gray)\n",
    "    shifted = shift(gray,shiftx,shifty)\n",
    "    gray = shifted\n",
    "  \n",
    "    img = gray / 255.0\n",
    "    img = np.array(img).reshape(-1, 28, 28, 1)\n",
    "    print(f\"Распознанная буква моделью: {emnist_mapping[(np.argmax(model1.predict(img)))]}\")"
   ]
  }
 ],
 "metadata": {
  "kernelspec": {
   "display_name": "Python 3 (ipykernel)",
   "language": "python",
   "name": "python3"
  },
  "language_info": {
   "codemirror_mode": {
    "name": "ipython",
    "version": 3
   },
   "file_extension": ".py",
   "mimetype": "text/x-python",
   "name": "python",
   "nbconvert_exporter": "python",
   "pygments_lexer": "ipython3",
   "version": "3.10.3"
  }
 },
 "nbformat": 4,
 "nbformat_minor": 5
}
